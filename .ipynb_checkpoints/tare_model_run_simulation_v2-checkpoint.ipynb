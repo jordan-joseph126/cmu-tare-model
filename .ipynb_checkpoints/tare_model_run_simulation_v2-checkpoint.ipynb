{
 "cells": [
  {
   "cell_type": "markdown",
   "id": "bb2b24ec",
   "metadata": {},
   "source": [
    "# Documentation and Functions"
   ]
  },
  {
   "cell_type": "code",
   "execution_count": null,
   "id": "6c07c847",
   "metadata": {},
   "outputs": [],
   "source": [
    "\"\"\"\n",
    "This file runs all of the code responsible for generating the output CSVs but does not visualize the data.\n",
    "Data visualization is done in the main program.\n",
    "\"\"\""
   ]
  },
  {
   "cell_type": "markdown",
   "id": "05b97433",
   "metadata": {},
   "source": [
    "# Baseline Scenario"
   ]
  },
  {
   "cell_type": "code",
   "execution_count": null,
   "id": "81d77c8f",
   "metadata": {
    "scrolled": true
   },
   "outputs": [],
   "source": [
    "# Program Directory --> C:\\Users\\Jordan\\Research\\cmu_tare_model\n",
    "# Results Export -----> C:\\Users\\Jordan\\Research\\cmu_tare_model_outputs\n",
    "# REPLACE THE FILE PATH WITH YOUR OWN!\n",
    "\n",
    "%run -i \"C:\\Users\\Jordan\\Research\\cmu_tare_model\\tare_model_scenario_baseline_v2.ipynb\""
   ]
  },
  {
   "cell_type": "code",
   "execution_count": null,
   "id": "757fbba7",
   "metadata": {},
   "outputs": [],
   "source": [
    "print(\"Baseline Scenario - Model Run Complete\")"
   ]
  },
  {
   "cell_type": "markdown",
   "id": "0144001c",
   "metadata": {},
   "source": [
    "### Save Model Run Results and Convert to CSV"
   ]
  },
  {
   "cell_type": "code",
   "execution_count": null,
   "id": "24dca617",
   "metadata": {},
   "outputs": [],
   "source": [
    "# Export WHOLE-HOME RESULTS (heating, water heating, clothes drying, and cooking)\n",
    "# def export_model_run_output(df_results_export):\n",
    "export_model_run_output(df_euss_am_baseline_home)"
   ]
  },
  {
   "cell_type": "markdown",
   "id": "d4303263",
   "metadata": {},
   "source": [
    "# Electrification Measure Package Scenarios"
   ]
  },
  {
   "cell_type": "code",
   "execution_count": null,
   "id": "9c3d58d0",
   "metadata": {
    "scrolled": true
   },
   "outputs": [],
   "source": [
    "print(\"--------------------------------------------------------------\")\n",
    "print(\"\"\"\n",
    "Scenarios for Basic, Moderate, and Advanced Retrofit\n",
    "\n",
    "Basic Retrofit Scenarios\n",
    "- The dataframe for Measure Package 8 (MP8) will be used in the following scenarios:\n",
    "    - Basic-BAU: Basic Retrofit (MP8), BAU Costs, Current Electricity Grid\n",
    "    - Basic-IRA: Basic Retrofit (MP8), IRA Rebates, Current Electricity Grid\n",
    "    - Basic-IRA-Decarb: Basic Retrofit (MP8), IRA Rebates, Gradually Decarbonizing Grid\n",
    "\n",
    "Moderate Retrofit Scenarios\n",
    "- The dataframe for Measure Package 9 (MP9) will be used in the following scenarios:\n",
    "    - Moderate-BAU: Moderate Retrofit (MP9), BAU Costs, Current Electricity Grid\n",
    "    - Moderate-IRA: Moderate Retrofit (MP9), IRA Rebates, Current Electricity Grid\n",
    "    - Moderate-IRA-Decarb: Moderate Retrofit (MP9), IRA Rebates, Gradually Decarbonizing Grid\n",
    "    \n",
    "Advanced Retrofit Scenarios\n",
    "- The dataframe for Measure Package 10 (MP10) will be used in the following scenarios:\n",
    "    - Advanced-BAU: Advanced Retrofit (MP10), BAU Costs, Current Electricity Grid\n",
    "    - Advanced-IRA: Advanced Retrofit (MP10), IRA Rebates, Current Electricity Grid\n",
    "    - Advanced-IRA-Decarb: Advanced Retrofit (MP10), IRA Rebates, Gradually Decarbonizing Grid\n",
    "\n",
    "Rows in the Baseline CSV are merged with the Post-Retrofit Measure Package.\n",
    "The same filters are applied.\"\"\")\n",
    "print(\"--------------------------------------------------------------\")\n",
    "print(\"\\n\")"
   ]
  },
  {
   "cell_type": "markdown",
   "id": "52a48b6f",
   "metadata": {},
   "source": [
    "## Basic Retrofit Scenarios: Basic-BAU, Basic-IRA, Basic-IRA-Decarb"
   ]
  },
  {
   "cell_type": "markdown",
   "id": "a5359146",
   "metadata": {},
   "source": [
    "### Model Run Calculations"
   ]
  },
  {
   "cell_type": "code",
   "execution_count": null,
   "id": "0aa64031",
   "metadata": {},
   "outputs": [],
   "source": [
    "print(\"--------------------------------------------------------------\")\n",
    "print(\"\"\"\n",
    "Basic Retrofit Scenarios\n",
    "- The dataframe for Measure Package 8 (MP8) will be used in the following scenarios:\n",
    "    - Basic-BAU: Basic Retrofit (MP8), BAU Costs, Current Electricity Grid\n",
    "    - Basic-IRA: Basic Retrofit (MP8), IRA Rebates, Current Electricity Grid\n",
    "    - Basic-IRA-Decarb: Basic Retrofit (MP8), IRA Rebates, Gradually Decarbonizing Grid\n",
    "\n",
    "Rows in the Baseline CSV are merged with the Post-Retrofit Measure Package.\n",
    "The same filters are applied.\"\"\")\n",
    "print(\"--------------------------------------------------------------\")\n",
    "print(\"\\n\")"
   ]
  },
  {
   "cell_type": "code",
   "execution_count": null,
   "id": "ba6a71fc",
   "metadata": {},
   "outputs": [],
   "source": [
    "# Measure Package 8\n",
    "menu_mp = 8\n",
    "input_mp = 'upgrade08'"
   ]
  },
  {
   "cell_type": "code",
   "execution_count": null,
   "id": "2ec33965",
   "metadata": {
    "scrolled": true
   },
   "outputs": [],
   "source": [
    "# REPLACE THE FILE PATH WITH YOUR OWN!\n",
    "%run -i \"C:\\Users\\Jordan\\Research\\cmu_tare_model\\tare_model_scenario_retrofit_basic_v2.ipynb\""
   ]
  },
  {
   "cell_type": "code",
   "execution_count": null,
   "id": "d6af0c4f",
   "metadata": {
    "scrolled": true
   },
   "outputs": [],
   "source": [
    "print(\"Basic Retrofit Scenarios - Model Run Complete\")"
   ]
  },
  {
   "cell_type": "markdown",
   "id": "42900e16",
   "metadata": {},
   "source": [
    "### Save Model Run Results and Convert to CSV"
   ]
  },
  {
   "cell_type": "code",
   "execution_count": null,
   "id": "73aa7101",
   "metadata": {},
   "outputs": [],
   "source": [
    "# Export WHOLE-HOME RESULTS (heating, water heating, clothes drying, and cooking)\n",
    "# def export_model_run_output(df_results_export):\n",
    "export_model_run_output(df_euss_am_mp8_home)"
   ]
  },
  {
   "cell_type": "markdown",
   "id": "79cafabc",
   "metadata": {},
   "source": [
    "## Moderate Retrofit Scenarios: Moderate-BAU, Moderate-IRA, Moderate-IRA-Decarb"
   ]
  },
  {
   "cell_type": "markdown",
   "id": "0afa24b9",
   "metadata": {},
   "source": [
    "### Model Run Calculations"
   ]
  },
  {
   "cell_type": "code",
   "execution_count": null,
   "id": "2eaecd68",
   "metadata": {},
   "outputs": [],
   "source": [
    "print(\"--------------------------------------------------------------\")\n",
    "print(\"\"\"\n",
    "Moderate Retrofit Scenarios\n",
    "- The dataframe for Measure Package 9 (MP9) will be used in the following scenarios:\n",
    "    - Moderate-BAU: Moderate Retrofit (MP9), BAU Costs, Current Electricity Grid\n",
    "    - Moderate-IRA: Moderate Retrofit (MP9), IRA Rebates, Current Electricity Grid\n",
    "    - Moderate-IRA-Decarb: Moderate Retrofit (MP9), IRA Rebates, Gradually Decarbonizing Grid\n",
    "        \n",
    "Rows in the Baseline CSV are merged with the Post-Retrofit Measure Package.\n",
    "The same filters are applied.\"\"\")\n",
    "print(\"--------------------------------------------------------------\")\n",
    "print(\"\\n\")"
   ]
  },
  {
   "cell_type": "code",
   "execution_count": null,
   "id": "9e38de01",
   "metadata": {},
   "outputs": [],
   "source": [
    "# Measure Package 9\n",
    "menu_mp = 9\n",
    "input_mp = 'upgrade09'"
   ]
  },
  {
   "cell_type": "code",
   "execution_count": null,
   "id": "da11e8a0",
   "metadata": {
    "scrolled": true
   },
   "outputs": [],
   "source": [
    "# REPLACE THE FILE PATH WITH YOUR OWN!\n",
    "%run -i \"C:\\Users\\Jordan\\Research\\cmu_tare_model\\tare_model_scenario_retrofit_moderate_v2.ipynb\""
   ]
  },
  {
   "cell_type": "code",
   "execution_count": null,
   "id": "2df98503",
   "metadata": {},
   "outputs": [],
   "source": [
    "print(\"Moderate Retrofit Scenarios - Model Run Complete\")"
   ]
  },
  {
   "cell_type": "markdown",
   "id": "c396808c",
   "metadata": {},
   "source": [
    "### Save Model Run Results and Convert to CSV"
   ]
  },
  {
   "cell_type": "code",
   "execution_count": null,
   "id": "b45b467d",
   "metadata": {},
   "outputs": [],
   "source": [
    "# Export WHOLE-HOME RESULTS (heating, water heating, clothes drying, and cooking)\n",
    "# def export_model_run_output(df_results_export):\n",
    "export_model_run_output(df_euss_am_mp9_home)"
   ]
  },
  {
   "cell_type": "markdown",
   "id": "162394bb",
   "metadata": {},
   "source": [
    "# Advanced Retrofit Scenarios: Advanced-BAU, Advanced-IRA, Advanced-IRA-Decarb"
   ]
  },
  {
   "cell_type": "code",
   "execution_count": null,
   "id": "1370609c",
   "metadata": {},
   "outputs": [],
   "source": [
    "print(\"--------------------------------------------------------------\")\n",
    "print(\"\"\"\n",
    "Advanced Retrofit Scenarios\n",
    "- The dataframe for Measure Package 10 (MP10) will be used in the following scenarios:\n",
    "    - Advanced-BAU: Advanced Retrofit (MP10), BAU Costs, Current Electricity Grid\n",
    "    - Advanced-IRA: Advanced Retrofit (MP10), IRA Rebates, Current Electricity Grid\n",
    "    - Advanced-IRA-Decarb: Advanced Retrofit (MP10), IRA Rebates, Gradually Decarbonizing Grid\n",
    "\n",
    "Rows in the Baseline CSV are merged with the Post-Retrofit Measure Package.\n",
    "The same filters are applied.\"\"\")\n",
    "print(\"--------------------------------------------------------------\")\n",
    "print(\"\\n\")"
   ]
  },
  {
   "cell_type": "code",
   "execution_count": null,
   "id": "2b056507",
   "metadata": {},
   "outputs": [],
   "source": [
    "# Measure Package 10\n",
    "menu_mp = 10\n",
    "input_mp = 'upgrade10'"
   ]
  },
  {
   "cell_type": "code",
   "execution_count": null,
   "id": "0967c78b",
   "metadata": {
    "scrolled": true
   },
   "outputs": [],
   "source": [
    "# REPLACE THE FILE PATH WITH YOUR OWN!\n",
    "%run -i \"C:\\Users\\Jordan\\Research\\cmu_tare_model\\tare_model_scenario_retrofit_advanced_v2.ipynb\""
   ]
  },
  {
   "cell_type": "code",
   "execution_count": null,
   "id": "b6b6a901",
   "metadata": {},
   "outputs": [],
   "source": [
    "print(\"Advanced Retrofit Scenarios - Model Run Complete\")"
   ]
  },
  {
   "cell_type": "markdown",
   "id": "40ddb9bd",
   "metadata": {},
   "source": [
    "### Save Model Run Results and Convert to CSV"
   ]
  },
  {
   "cell_type": "code",
   "execution_count": null,
   "id": "f3fa2cb5",
   "metadata": {},
   "outputs": [],
   "source": [
    "# Export WHOLE-HOME RESULTS (heating, water heating, clothes drying, and cooking)\n",
    "# def export_model_run_output(df_results_export):\n",
    "export_model_run_output(df_euss_am_mp10_home)"
   ]
  },
  {
   "cell_type": "markdown",
   "id": "a31bfbe7",
   "metadata": {},
   "source": [
    "# Model Runtime"
   ]
  },
  {
   "cell_type": "code",
   "execution_count": null,
   "id": "194743da",
   "metadata": {
    "scrolled": false
   },
   "outputs": [],
   "source": [
    "# Get the current datetime again\n",
    "end_time = datetime.now().strftime(\"%Y-%m-%d_%H-%M-%S\")\n",
    "\n",
    "# Calculate the elapsed time\n",
    "elapsed_time = datetime.strptime(end_time, \"%Y-%m-%d_%H-%M-%S\") - datetime.strptime(start_time, \"%Y-%m-%d_%H-%M-%S\")\n",
    "\n",
    "# Format the elapsed time\n",
    "elapsed_seconds = elapsed_time.total_seconds()\n",
    "elapsed_minutes = int(elapsed_seconds // 60)\n",
    "elapsed_seconds = int(elapsed_seconds % 60)\n",
    "\n",
    "# Print the elapsed time\n",
    "print(f\"The code took {elapsed_minutes} minutes and {elapsed_seconds} seconds to execute.\")"
   ]
  },
  {
   "cell_type": "code",
   "execution_count": null,
   "id": "eaa177ee",
   "metadata": {},
   "outputs": [],
   "source": []
  }
 ],
 "metadata": {
  "kernelspec": {
   "display_name": "Python 3 (ipykernel)",
   "language": "python",
   "name": "python3"
  },
  "language_info": {
   "codemirror_mode": {
    "name": "ipython",
    "version": 3
   },
   "file_extension": ".py",
   "mimetype": "text/x-python",
   "name": "python",
   "nbconvert_exporter": "python",
   "pygments_lexer": "ipython3",
   "version": "3.8.5"
  }
 },
 "nbformat": 4,
 "nbformat_minor": 5
}
