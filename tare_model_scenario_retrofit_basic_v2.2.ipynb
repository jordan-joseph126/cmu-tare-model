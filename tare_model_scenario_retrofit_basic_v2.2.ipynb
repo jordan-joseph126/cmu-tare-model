{
 "cells": [
  {
   "cell_type": "markdown",
   "id": "05b97433",
   "metadata": {},
   "source": [
    "# Baseline Scenario"
   ]
  },
  {
   "cell_type": "code",
   "execution_count": null,
   "id": "0e54beb0",
   "metadata": {},
   "outputs": [],
   "source": [
    "# import os\n",
    "\n",
    "# # Measure Package 0: Baseline\n",
    "# menu_mp = 0\n",
    "# input_mp = 'baseline'\n",
    "\n",
    "# # Get the current working directory of the project\n",
    "# project_root = os.path.abspath(os.getcwd())\n",
    "# print(f\"Project root directory: {project_root}\")\n",
    "\n",
    "# # Relative path to the file from the project root\n",
    "# relative_path = r\"tare_model_scenario_baseline_v2.2.ipynb\"\n",
    "\n",
    "# # Construct the absolute path to the file\n",
    "# file_path = os.path.join(project_root, relative_path)\n",
    "# print(f\"File path: {file_path}\")\n",
    "\n",
    "# # Run the notebook and import variables\n",
    "# if os.path.exists(relative_path):\n",
    "#     get_ipython().run_line_magic('run', f'-i \"{relative_path}\"')\n",
    "#     print(\"Baseline Scenario - Model Run Complete\")\n",
    "# else:\n",
    "#     print(f\"File not found: {relative_path}\")"
   ]
  },
  {
   "cell_type": "markdown",
   "id": "9bc76c5e",
   "metadata": {},
   "source": [
    "# Basic Retrofit Scenarios (MP8)\n",
    "- The dataframe for Measure Package 8 (MP8) will be used in the following scenarios:\n",
    "    - Basic-BAU: Basic Retrofit (MP8), BAU Costs, Current Electricity Grid\n",
    "    - Basic-IRA: Basic Retrofit (MP8), IRA Rebates, Current Electricity Grid\n",
    "    - Basic-IRA-Decarb: Basic Retrofit (MP8), IRA Rebates, Gradually Decarbonizing Grid"
   ]
  },
  {
   "cell_type": "markdown",
   "id": "b9ed076c",
   "metadata": {
    "id": "lFPOJw1AV-ln"
   },
   "source": [
    "## Dataframe for Electric Resistance Cooking (MP7)"
   ]
  },
  {
   "cell_type": "code",
   "execution_count": null,
   "id": "99dc05e0",
   "metadata": {},
   "outputs": [],
   "source": [
    "print(f\"\"\"\n",
    "-------------------------------------------------------------------------------------------------------\n",
    "We assume the use of Electric Resistance (MP7) rather than Induction (MP8).\n",
    "Electric Resistance is significantly cheaper and only slightly less efficient than Induction.\n",
    "-------------------------------------------------------------------------------------------------------\n",
    "\"\"\")\n",
    "\n",
    "# Measure Package 7\n",
    "menu_mp = 7\n",
    "input_mp = 'upgrade07'\n",
    "\n",
    "filename = \"upgrade07_metadata_and_annual_results.csv\"\n",
    "relative_path = os.path.join(r\"euss_data\\\\resstock_amy2018_release_1.1\\\\state\", filename)\n",
    "file_path = os.path.join(project_root, relative_path)\n",
    "\n",
    "print(f\"Retrieved data for filename: {filename}\")\n",
    "print(f\"Located at filepath: {file_path}\")\n",
    "print(\"\\n\")\n",
    "\n",
    "# Fix DtypeWarning error in columns 'in.neighbors' and 'in.geometry_stories_low_rise'\n",
    "columns_to_string = {11: str, 61: str, 121: str, 103: str, 128: str, 129: str}\n",
    "df_euss_am_mp7 = pd.read_csv(file_path, dtype=columns_to_string)\n",
    "occupancy_filter = df_euss_am_mp7['in.vacancy_status'] == 'Occupied'\n",
    "df_euss_am_mp7 = df_euss_am_mp7.loc[occupancy_filter]\n",
    "\n",
    "# Filter for single family home building type\n",
    "house_type_list = ['Single-Family Attached', 'Single-Family Detached']\n",
    "house_type_filter = df_euss_am_mp7['in.geometry_building_type_recs'].isin(house_type_list)\n",
    "df_euss_am_mp7 = df_euss_am_mp7.loc[house_type_filter]"
   ]
  },
  {
   "cell_type": "code",
   "execution_count": null,
   "id": "ba61b60b",
   "metadata": {},
   "outputs": [],
   "source": [
    "# National Level \n",
    "if menu_state == 'N':\n",
    "    print(\"You chose to analyze all of the United States.\")\n",
    "    input_state = 'National'\n",
    "\n",
    "# Filter down to state or city\n",
    "else:\n",
    "    print(f\"You chose to filter for: {input_state}\")\n",
    "    state_filter = df_euss_am_mp7['in.state'].eq(input_state)\n",
    "    df_euss_am_mp7 = df_euss_am_mp7.loc[state_filter]\n",
    "\n",
    "    # Filter for the entire selected state\n",
    "    if menu_city == 'N':\n",
    "        print(f\"You chose to analyze all of state: {input_state}\")\n",
    "        \n",
    "    # Filter to a city within the selected state\n",
    "    else:\n",
    "        print(f\"You chose to filter for: {input_state}, {input_cityFilter}\")\n",
    "        city_filter = df_euss_am_mp7['in.city'].eq(f\"{input_state}, {input_cityFilter}\")\n",
    "        df_euss_am_mp7 = df_euss_am_mp7.loc[city_filter]\n",
    "\n",
    "# Display the filtered dataframe\n",
    "df_euss_am_mp7"
   ]
  },
  {
   "cell_type": "markdown",
   "id": "d151dc63",
   "metadata": {
    "id": "lFPOJw1AV-ln"
   },
   "source": [
    "## Dataframe used for other end-uses (MP8)"
   ]
  },
  {
   "cell_type": "code",
   "execution_count": null,
   "id": "dd5f8a49",
   "metadata": {},
   "outputs": [],
   "source": [
    "# Measure Package 8\n",
    "menu_mp = 8\n",
    "input_mp = 'upgrade08'\n",
    "scenario_name = 'Basic-BAU'\n",
    "cost_scenario = 'BAU Costs'\n",
    "grid_scenario = 'Current Electricity Grid'\n",
    "\n",
    "print(f\"\"\"\n",
    "-------------------------------------------------------------------------------------------------------\n",
    "MODEL SCENARIO\n",
    "-------------------------------------------------------------------------------------------------------\n",
    "Scenario {scenario_name}:\n",
    "Basic Retrofit: Measure Package {menu_mp}\n",
    "{cost_scenario}\n",
    "{grid_scenario}\n",
    "-------------------------------------------------------------------------------------------------------\n",
    "\"\"\")\n",
    "\n",
    "filename = \"upgrade08_metadata_and_annual_results.csv\"\n",
    "relative_path = os.path.join(r\"euss_data\\\\resstock_amy2018_release_1.1\\\\state\", filename)\n",
    "file_path = os.path.join(project_root, relative_path)\n",
    "\n",
    "print(f\"Retrieved data for filename: {filename}\")\n",
    "print(f\"Located at filepath: {file_path}\")\n",
    "print(\"\\n\")\n",
    "\n",
    "# Fix DtypeWarning error in columns 'in.neighbors' and 'in.geometry_stories_low_rise'\n",
    "columns_to_string = {11: str, 61: str, 121: str, 103: str, 128: str, 129: str}\n",
    "df_euss_am_mp8 = pd.read_csv(file_path, dtype=columns_to_string)\n",
    "occupancy_filter = df_euss_am_mp8['in.vacancy_status'] == 'Occupied'\n",
    "df_euss_am_mp8 = df_euss_am_mp8.loc[occupancy_filter]\n",
    "\n",
    "# Filter for single family home building type\n",
    "house_type_list = ['Single-Family Attached', 'Single-Family Detached']\n",
    "house_type_filter = df_euss_am_mp8['in.geometry_building_type_recs'].isin(house_type_list)\n",
    "df_euss_am_mp8 = df_euss_am_mp8.loc[house_type_filter]\n",
    "# df_euss_am_mp8"
   ]
  },
  {
   "cell_type": "code",
   "execution_count": null,
   "id": "5bd50926",
   "metadata": {},
   "outputs": [],
   "source": [
    "# National Level \n",
    "if menu_state == 'N':\n",
    "    print(\"You chose to analyze all of the United States.\")\n",
    "    input_state = 'National'\n",
    "\n",
    "# Filter down to state or city\n",
    "else:\n",
    "    print(f\"You chose to filter for: {input_state}\")\n",
    "    state_filter = df_euss_am_mp8['in.state'].eq(input_state)\n",
    "    df_euss_am_mp8 = df_euss_am_mp8.loc[state_filter]\n",
    "\n",
    "    # Filter for the entire selected state\n",
    "    if menu_city == 'N':\n",
    "        print(f\"You chose to analyze all of state: {input_state}\")\n",
    "        \n",
    "    # Filter to a city within the selected state\n",
    "    else:\n",
    "        print(f\"You chose to filter for: {input_state}, {input_cityFilter}\")\n",
    "        city_filter = df_euss_am_mp8['in.city'].eq(f\"{input_state}, {input_cityFilter}\")\n",
    "        df_euss_am_mp8 = df_euss_am_mp8.loc[city_filter]\n",
    "\n",
    "# Display the filtered dataframe\n",
    "df_euss_am_mp8"
   ]
  },
  {
   "cell_type": "markdown",
   "id": "ba39ea86",
   "metadata": {},
   "source": [
    "### Post-Retrofit (MP) Consumption: WHOLE-HOME"
   ]
  },
  {
   "cell_type": "code",
   "execution_count": null,
   "id": "f7d2bb68",
   "metadata": {},
   "outputs": [],
   "source": [
    "print(\"\"\"\n",
    "-------------------------------------------------------------------------------------------------------\n",
    "Post-Retrofit (MP) Consumption: WHOLE-HOME\n",
    "-------------------------------------------------------------------------------------------------------\n",
    "\"\"\")\n",
    "\n",
    "# df_enduse_compare(df_mp, category, df_baseline):\n",
    "df_euss_am_mp8_home = df_enduse_compare(df_mp = df_euss_am_mp8,\n",
    "                                        menu_mp=menu_mp,\n",
    "                                        df_baseline = df_euss_am_baseline_home \n",
    "                                       )\n",
    "df_euss_am_mp8_home"
   ]
  },
  {
   "cell_type": "markdown",
   "id": "987b8ae9",
   "metadata": {
    "id": "APZVHBCeV-mP"
   },
   "source": [
    "## Public Perspective: Monetized Marginal Damages from Emissions"
   ]
  },
  {
   "cell_type": "code",
   "execution_count": null,
   "id": "231de583",
   "metadata": {},
   "outputs": [],
   "source": [
    "print(\"\"\"\n",
    "------------------------------------------------------------------------------------------------------------------------------------------------\n",
    "Public Perspective: Monetized Marginal Damages from Emissions\n",
    "------------------------------------------------------------------------------------------------------------------------------------------------\n",
    "**Steps 1-4 were performed in the Baseline Scenario**\n",
    "- Step 1: Calculate emissions factors for different fuel sources\n",
    "- Step 2: Adjust Natural Gas & Electricity Emissions Factors for Natural Gas Leakage\n",
    "- Step 3: Quantify monitized damages using EASIUR Marginal Social Cost Factors\n",
    "- Step 4: Inflate Marginal Social Cost (Damage) Factors using BLS CPI for All Urban Consumers (CPI-U) \n",
    "------------------------------------------------------------------------------------------------------------------------------------------------\n",
    "\"\"\")"
   ]
  },
  {
   "cell_type": "markdown",
   "id": "2a06128e",
   "metadata": {},
   "source": [
    "### Step 5: Calculate End-use specific marginal damages\n",
    "**I used the total emissions column for each of the end uses for the following reasons:**\n",
    "- Most homes only have 1 of each end-use, so it is unlikely that the homes have a significant consumption values from different fuel types. Thus, the total consumption and total emissions column (sum of each dwelling units consumption by end-use for each fuel) is fine to use to calculate marginal damages (social cost)\n",
    "- We can visualize the emissions in 2 by 2 grid (CO2, PM25, SO2, NOx) with each appliance's heating fuel in a different shape or color. "
   ]
  },
  {
   "cell_type": "code",
   "execution_count": null,
   "id": "c0d8cec8",
   "metadata": {},
   "outputs": [],
   "source": [
    "print(\"\"\"\n",
    "------------------------------------------------------------------------------------------------------------------------------------------------\n",
    "Step 5: Calculate End-use specific marginal damages\n",
    "------------------------------------------------------------------------------------------------------------------------------------------------\n",
    "\"\"\")"
   ]
  },
  {
   "cell_type": "markdown",
   "id": "2dac8567",
   "metadata": {},
   "source": [
    "### Post-Retrofit (MP) Marginal Damages: WHOLE-HOME"
   ]
  },
  {
   "cell_type": "code",
   "execution_count": null,
   "id": "01afc512",
   "metadata": {},
   "outputs": [],
   "source": [
    "print(\"\"\"\n",
    "-------------------------------------------------------------------------------------------------------\n",
    "Post-Retrofit (MP) Marginal Damages: WHOLE-HOME\n",
    "-------------------------------------------------------------------------------------------------------\n",
    "\"\"\")\n",
    "\n",
    "# td_losses = 0.06\n",
    "\n",
    "# calculate_marginal_damages(df, grid_decarb=False)\n",
    "df_euss_am_mp8_home = calculate_marginal_damages(df=df_euss_am_mp8_home,\n",
    "                                                 grid_decarb=False\n",
    "                                                )\n",
    "df_euss_am_mp8_home"
   ]
  },
  {
   "cell_type": "code",
   "execution_count": null,
   "id": "68ea1476",
   "metadata": {},
   "outputs": [],
   "source": [
    "# heating_df_cols = ['bldg_id', 'subregion_eGRID', 'base_heating_fuel','heating_type','base_heating_efficiency',\n",
    "#                    'base_electricity_heating_consumption', 'base_fuelOil_heating_consumption', 'base_naturalGas_heating_consumption', \n",
    "#                    'base_propane_heating_consumption', 'baseline_heating_consumption',\n",
    "#                    'margSocialCosts_so2','margDamage_factor_so2','margSocialCosts_nox','margDamage_factor_nox',\n",
    "#                    'margSocialCosts_pm25','margDamage_factor_pm25','margSocialCosts_co2','margDamage_factor_co2',\n",
    "#                    'baseline_heating_damages_so2','baseline_heating_damages_nox','baseline_heating_damages_pm25',\n",
    "#                    'baseline_heating_damages_co2','baseline_heating_damages_health','baseline_heating_damages_climate'\n",
    "#                   ]\n",
    "\n",
    "# df_test_heating = df_euss_am_mp8_home[heating_df_cols]\n",
    "# df_test_heating"
   ]
  },
  {
   "cell_type": "markdown",
   "id": "602cadcb",
   "metadata": {
    "id": "uyCcp2-PV-nC"
   },
   "source": [
    "## Public Perspective: Public NPV"
   ]
  },
  {
   "attachments": {
    "parth_npv_public.jpg": {
     "image/jpeg": "[encoded data removed]"
    }
   },
   "cell_type": "markdown",
   "id": "07256994",
   "metadata": {},
   "source": [
    "![parth_npv_public.jpg](attachment:parth_npv_public.jpg)"
   ]
  },
  {
   "cell_type": "markdown",
   "id": "2ee0d55a",
   "metadata": {},
   "source": [
    "### PUBLIC NPV: WHOLE-HOME"
   ]
  },
  {
   "cell_type": "code",
   "execution_count": null,
   "id": "a8e61523",
   "metadata": {},
   "outputs": [],
   "source": [
    "print(\"\"\"\n",
    "-------------------------------------------------------------------------------------------------------\n",
    "print(\"Public NPV: WHOLE-HOME\n",
    "-------------------------------------------------------------------------------------------------------\n",
    "\"\"\")\n",
    "\n",
    "df_euss_am_mp8_home = calculate_public_npv(df=df_euss_am_mp8_home,\n",
    "                                           interest_rate=0.07,\n",
    "                                           grid_decarb=False\n",
    "                                          )\n",
    "df_euss_am_mp8_home"
   ]
  },
  {
   "cell_type": "markdown",
   "id": "4f7c6433",
   "metadata": {
    "id": "jiGPU0RCV-mQ"
   },
   "source": [
    "## Private Perspective: Annual Energy Costs"
   ]
  },
  {
   "cell_type": "code",
   "execution_count": null,
   "id": "a8a7ee12",
   "metadata": {
    "scrolled": true
   },
   "outputs": [],
   "source": [
    "print(\"\\n\")\n",
    "print(\"\"\"\n",
    "------------------------------------------------------------------------------------------------------------------------------------------------\n",
    "Private Perspective: Annual Energy Costs\n",
    "------------------------------------------------------------------------------------------------------------------------------------------------\n",
    "- Step 1: Obtain Level Energy Fuel Cost Data from the EIA\n",
    "- Step 2: Calculate Annual Operating (Fuel) Costs\n",
    "------------------------------------------------------------------------------------------------------------------------------------------------\n",
    "\"\"\")"
   ]
  },
  {
   "cell_type": "markdown",
   "id": "17c64e43",
   "metadata": {},
   "source": [
    "### Post-Retrofit (MP) Fuel Cost: WHOLE-HOME"
   ]
  },
  {
   "cell_type": "code",
   "execution_count": null,
   "id": "97067fb2",
   "metadata": {},
   "outputs": [],
   "source": [
    "print(\"\"\"\n",
    "------------------------------------------------------------------------------------------------------------------------------------------------\n",
    "Post-Retrofit (MP) Fuel Cost: WHOLE-HOME\n",
    "------------------------------------------------------------------------------------------------------------------------------------------------\n",
    "\"\"\")\n",
    "\n",
    "# calculate_annual_fuelCost(df, state_region, df_fuelPrices_perkWh, cpi_ratio)\n",
    "df_euss_am_mp8_home = calculate_annual_fuelCost(df=df_euss_am_mp8_home,\n",
    "                                                state_region=input_state,\n",
    "                                                df_fuelPrices_perkWh=df_fuelPrices_perkWh,\n",
    "                                                cpi_ratio=cpi_ratio_2021_2018        \n",
    "                                               )\n",
    "df_euss_am_mp8_home"
   ]
  },
  {
   "cell_type": "markdown",
   "id": "c750b11e",
   "metadata": {
    "id": "uyCcp2-PV-nC"
   },
   "source": [
    "## Private Perspective: Private NPV"
   ]
  },
  {
   "attachments": {
    "parth_npv_private.jpg": {
     "image/jpeg": "[encoded data removed]"
    }
   },
   "cell_type": "markdown",
   "id": "6a5b861a",
   "metadata": {},
   "source": [
    "![parth_npv_private.jpg](attachment:parth_npv_private.jpg)"
   ]
  },
  {
   "attachments": {
    "parth_npv_private_kheatpump.jpg": {
     "image/jpeg": "[encoded data removed]"
    }
   },
   "cell_type": "markdown",
   "id": "90eea7fb",
   "metadata": {},
   "source": [
    "![parth_npv_private_kheatpump.jpg](attachment:parth_npv_private_kheatpump.jpg)"
   ]
  },
  {
   "cell_type": "code",
   "execution_count": null,
   "id": "3992e31e",
   "metadata": {},
   "outputs": [],
   "source": [
    "print(\"\\n\")\n",
    "print(\"\"\"\n",
    "------------------------------------------------------------------------------------------------------------------------------------------------\n",
    "Private Perspective: Private NPV\n",
    "------------------------------------------------------------------------------------------------------------------------------------------------\n",
    "- Step 1: Calculate annual operating (fuel) costs\n",
    "- Step 2: Calculate equipment capital costs (For space heating, include ductwork and weatherization (MP9 and MP8))\n",
    "- Step 3: Calculate replacement cost (replacing existing piece of eqipment with similar technology)\n",
    "- Step 4: Calculate net equipment capital costs\n",
    "- Step 5: Calculate private NPV\n",
    "------------------------------------------------------------------------------------------------------------------------------------------------\n",
    "\"\"\")"
   ]
  },
  {
   "cell_type": "code",
   "execution_count": null,
   "id": "f6631df9",
   "metadata": {
    "scrolled": true
   },
   "outputs": [],
   "source": [
    "# Collect Capital Cost Data for different End-uses\n",
    "filename = \"tare_retrofit_costs_range.xlsx\"\n",
    "relative_path = os.path.join(r\"retrofit_costs\", filename)\n",
    "file_path = os.path.join(project_root, relative_path)\n",
    "\n",
    "print(f\"Retrieved data for filename: {filename}\")\n",
    "print(f\"Located at filepath: {file_path}\")\n",
    "print(\"\\n\")\n",
    "\n",
    "df_heating_retrofit_costs = pd.read_excel(io=file_path, sheet_name='heating_costs')\n",
    "df_waterHeating_retrofit_costs = pd.read_excel(io=file_path, sheet_name='waterHeating_costs')\n",
    "df_clothesDrying_retrofit_costs = pd.read_excel(io=file_path, sheet_name='clothesDrying_costs')\n",
    "df_cooking_retrofit_costs = pd.read_excel(io=file_path, sheet_name='cooking_costs')\n",
    "df_enclosure_retrofit_costs = pd.read_excel(io=file_path, sheet_name='enclosure_upgrade_costs')"
   ]
  },
  {
   "cell_type": "code",
   "execution_count": null,
   "id": "940afe30",
   "metadata": {},
   "outputs": [],
   "source": [
    "# Adjust for regional cost differences with RSMeans\n",
    "filename = \"rsMeans_cityCostIndex.csv\"\n",
    "relative_path = os.path.join(r\"inflation_data\", filename)\n",
    "file_path = os.path.join(project_root, relative_path)\n",
    "\n",
    "print(f\"Retrieved data for filename: {filename}\")\n",
    "print(f\"Located at filepath: {file_path}\")\n",
    "print(\"\\n\")\n",
    "\n",
    "df_rsMeans_cityCostIndex = pd.read_csv(file_path)\n",
    "\n",
    "df_rsMeans_cityCostIndex = pd.DataFrame({\n",
    "    'State': df_rsMeans_cityCostIndex['State'],\n",
    "    'City': df_rsMeans_cityCostIndex['City'],\n",
    "    'Material': (df_rsMeans_cityCostIndex['Material'] * (cpi_ratio_2021_2019)).round(2),\n",
    "    'Installation': (df_rsMeans_cityCostIndex['Installation'] * (cpi_ratio_2021_2019)).round(2),\n",
    "    'Average': (df_rsMeans_cityCostIndex['Average'] * (cpi_ratio_2021_2019)).round(2),\n",
    "    'unit': '[$USD-2021]'\n",
    "})\n",
    "df_rsMeans_cityCostIndex"
   ]
  },
  {
   "cell_type": "code",
   "execution_count": null,
   "id": "62a8a969",
   "metadata": {},
   "outputs": [],
   "source": [
    "# Assuming df_rsMeans_cityCostIndex is your DataFrame with average costs\n",
    "# Accounts for the costs of materials, labor and equipment and compares it to a national average of 30 major U.S. cities\n",
    "average_cost_map = df_rsMeans_cityCostIndex.set_index('City')['Average'].to_dict()\n",
    "rsMeans_national_avg = round((3.00 * (cpi_ratio_2021_2019)), 2)\n",
    "\n",
    "# Use CCI to adjust for cost differences when compared to the national average\n",
    "# Call the function and map the values for CCI adjustment\n",
    "df_euss_am_mp8_home['rsMeans_CCI_avg'] = df_euss_am_mp8_home['city'].apply(map_average_cost)\n",
    "df_euss_am_mp8_home"
   ]
  },
  {
   "cell_type": "markdown",
   "id": "22af918a",
   "metadata": {},
   "source": [
    "### Space Heating and No Enclosure Upgrade"
   ]
  },
  {
   "cell_type": "markdown",
   "id": "fd2f1079",
   "metadata": {},
   "source": [
    "#### Space Heating Capital Costs"
   ]
  },
  {
   "cell_type": "code",
   "execution_count": null,
   "id": "a9696fe7",
   "metadata": {
    "scrolled": true
   },
   "outputs": [],
   "source": [
    "print(\"\"\"\n",
    "------------------------------------------------------------------------------------------------------------------------------------------------\n",
    "Capital Costs: Space Heating\n",
    "------------------------------------------------------------------------------------------------------------------------------------------------\n",
    "\"\"\")\n",
    "\n",
    "# Columns to update\n",
    "cost_columns = [\n",
    "    'unitCost_progressive', 'unitCost_reference', 'unitCost_conservative',\n",
    "    'cost_per_kBtuh_progressive', 'cost_per_kBtuh_reference', 'cost_per_kBtuh_conservative',\n",
    "    'otherCost_progressive', 'otherCost_reference', 'otherCost_conservative'\n",
    "]\n",
    "\n",
    "# Update each cost column by multiplying with cpi_ratio and cost_multiplier\n",
    "for column in cost_columns:\n",
    "    df_heating_retrofit_costs[column] = round((df_heating_retrofit_costs[column] * df_heating_retrofit_costs['cpi_ratio'] * df_heating_retrofit_costs['cost_multiplier']), 2)\n",
    "\n",
    "# Creating a dictionary from the DataFrame\n",
    "dict_heating_equipment_cost = df_heating_retrofit_costs.set_index(['technology', 'efficiency']).to_dict(orient='index')\n",
    "# dict_heating_equipment_cost"
   ]
  },
  {
   "cell_type": "code",
   "execution_count": null,
   "id": "f3e845fa",
   "metadata": {
    "editable": true,
    "slideshow": {
     "slide_type": ""
    },
    "tags": []
   },
   "outputs": [],
   "source": [
    "# Call the function and obtain equipment specifications\n",
    "# obtain_heating_system_specs(df)\n",
    "df_euss_am_mp8_home = obtain_heating_system_specs(df_euss_am_mp8_home)\n",
    "\n",
    "# calculate_installation_cost(df, cost_dict, rsMeans_national_avg, menu_mp, end_use)\n",
    "calculate_installation_cost(df_euss_am_mp8_home, dict_heating_equipment_cost, rsMeans_national_avg, menu_mp, 'heating')\n",
    "\n",
    "# calculate_replacement_cost(df, cost_dict, rsMeans_national_avg, menu_mp, end_use)\n",
    "calculate_replacement_cost(df_euss_am_mp8_home, dict_heating_equipment_cost, rsMeans_national_avg, menu_mp, 'heating')\n",
    "\n",
    "# Call the function and calculate installation premium based on existing housing characteristics\n",
    "# calculate_heating_installation_premium(df, rsMeans_national_avg, cpi_ratio_2021_2013)\n",
    "df_euss_am_mp8_home = calculate_heating_installation_premium(df_euss_am_mp8_home, rsMeans_national_avg, cpi_ratio_2021_2013)\n",
    "\n",
    "# Display the df\n",
    "df_euss_am_mp8_home"
   ]
  },
  {
   "cell_type": "markdown",
   "id": "70a92762",
   "metadata": {
    "editable": true,
    "slideshow": {
     "slide_type": ""
    },
    "tags": []
   },
   "source": [
    "### Water Heating"
   ]
  },
  {
   "cell_type": "code",
   "execution_count": null,
   "id": "461f8865",
   "metadata": {},
   "outputs": [],
   "source": [
    "print(\"\"\"\n",
    "------------------------------------------------------------------------------------------------------------------------------------------------\n",
    "Capital Costs: Water Heating\n",
    "------------------------------------------------------------------------------------------------------------------------------------------------\n",
    "\"\"\")\n",
    "\n",
    "cost_columns = [\n",
    "    'unitCost_progressive', 'unitCost_reference', 'unitCost_conservative',\n",
    "    'cost_per_gallon_progressive', 'cost_per_gallon_reference', 'cost_per_gallon_conservative',\n",
    "]\n",
    "\n",
    "# Update each cost column by multiplying with cpi_ratio and cost_multiplier\n",
    "for column in cost_columns:\n",
    "    df_waterHeating_retrofit_costs[column] = round((df_waterHeating_retrofit_costs[column] * df_waterHeating_retrofit_costs['cpi_ratio'] * df_waterHeating_retrofit_costs['cost_multiplier']), 2)\n",
    "\n",
    "# Creating a dictionary from the DataFrame\n",
    "dict_waterHeating_equipment_cost = df_waterHeating_retrofit_costs.set_index(['technology', 'efficiency']).to_dict(orient='index')\n",
    "# dict_waterHeating_equipment_cost"
   ]
  },
  {
   "cell_type": "code",
   "execution_count": null,
   "id": "cae8aad4",
   "metadata": {},
   "outputs": [],
   "source": [
    "# calculate_installation_cost(df, cost_dict, rsMeans_national_avg, menu_mp, end_use)\n",
    "calculate_installation_cost(df_euss_am_mp8_home, dict_waterHeating_equipment_cost, rsMeans_national_avg, menu_mp, 'waterHeating')\n",
    "\n",
    "# calculate_replacement_cost(df, cost_dict, rsMeans_national_avg, menu_mp, end_use)\n",
    "calculate_replacement_cost(df_euss_am_mp8_home, dict_waterHeating_equipment_cost, rsMeans_national_avg, menu_mp, 'waterHeating')\n",
    "\n",
    "# Display the df\n",
    "df_euss_am_mp8_home"
   ]
  },
  {
   "cell_type": "markdown",
   "id": "c8c0a633",
   "metadata": {},
   "source": [
    "### Clothes Drying"
   ]
  },
  {
   "cell_type": "code",
   "execution_count": null,
   "id": "e898f45d",
   "metadata": {},
   "outputs": [],
   "source": [
    "print(\"\"\"\n",
    "------------------------------------------------------------------------------------------------------------------------------------------------\n",
    "Capital Costs: Clothes Drying\n",
    "------------------------------------------------------------------------------------------------------------------------------------------------\n",
    "\"\"\")\n",
    "\n",
    "# Columns to update\n",
    "cost_columns = [\n",
    "    'unitCost_progressive', 'unitCost_reference', 'unitCost_conservative',\n",
    "]\n",
    " \n",
    "# Update each cost column by multiplying with cpi_ratio and cost_multiplier\n",
    "for column in cost_columns:\n",
    "    df_clothesDrying_retrofit_costs[column] = round((df_clothesDrying_retrofit_costs[column] * df_clothesDrying_retrofit_costs['cpi_ratio'] * df_clothesDrying_retrofit_costs['cost_multiplier']), 2)\n",
    "\n",
    "# Creating a dictionary from the DataFrame\n",
    "dict_clothesDrying_equipment_cost = df_clothesDrying_retrofit_costs.set_index(['technology', 'efficiency']).to_dict(orient='index')\n",
    "# dict_clothesDrying_equipment_cost"
   ]
  },
  {
   "cell_type": "code",
   "execution_count": null,
   "id": "4b8ee971",
   "metadata": {},
   "outputs": [],
   "source": [
    "# calculate_installation_cost(df, cost_dict, rsMeans_national_avg, menu_mp, end_use)\n",
    "calculate_installation_cost(df_euss_am_mp8_home, dict_clothesDrying_equipment_cost, rsMeans_national_avg, menu_mp, 'clothesDrying')\n",
    "\n",
    "# calculate_replacement_cost(df, cost_dict, rsMeans_national_avg, menu_mp, end_use)\n",
    "calculate_replacement_cost(df_euss_am_mp8_home, dict_clothesDrying_equipment_cost, rsMeans_national_avg, menu_mp, 'clothesDrying')\n",
    "\n",
    "# Display the df\n",
    "df_euss_am_mp8_home"
   ]
  },
  {
   "cell_type": "markdown",
   "id": "e899eb96",
   "metadata": {},
   "source": [
    "### Cooking"
   ]
  },
  {
   "cell_type": "code",
   "execution_count": null,
   "id": "d77a8c84",
   "metadata": {},
   "outputs": [],
   "source": [
    "print(\"\"\"\n",
    "------------------------------------------------------------------------------------------------------------------------------------------------\n",
    "Capital Costs: Cooking\n",
    "------------------------------------------------------------------------------------------------------------------------------------------------\n",
    "\"\"\")\n",
    "\n",
    "# Columns to update\n",
    "cost_columns = [\n",
    "    'unitCost_progressive', 'unitCost_reference', 'unitCost_conservative',\n",
    "]\n",
    " \n",
    "# Update each cost column by multiplying with cpi_ratio and cost_multiplier\n",
    "for column in cost_columns:\n",
    "    df_cooking_retrofit_costs[column] = round((df_cooking_retrofit_costs[column] * df_cooking_retrofit_costs['cpi_ratio'] * df_cooking_retrofit_costs['cost_multiplier']), 2)\n",
    "\n",
    "# Creating a dictionary from the DataFrame\n",
    "dict_cooking_equipment_cost = df_cooking_retrofit_costs.set_index(['technology', 'efficiency']).to_dict(orient='index')\n",
    "# dict_cooking_equipment_cost"
   ]
  },
  {
   "cell_type": "code",
   "execution_count": null,
   "id": "09cec40f",
   "metadata": {
    "scrolled": true
   },
   "outputs": [],
   "source": [
    "# calculate_installation_cost(df, cost_dict, rsMeans_national_avg, menu_mp, end_use)\n",
    "calculate_installation_cost(df_euss_am_mp8_home, dict_cooking_equipment_cost, rsMeans_national_avg, menu_mp, 'cooking')\n",
    "\n",
    "# calculate_replacement_cost(df, cost_dict, rsMeans_national_avg, menu_mp, end_use)\n",
    "calculate_replacement_cost(df_euss_am_mp8_home, dict_cooking_equipment_cost, rsMeans_national_avg, menu_mp, 'cooking')\n",
    "\n",
    "# Display the df\n",
    "df_euss_am_mp8_home"
   ]
  },
  {
   "cell_type": "markdown",
   "id": "e74daa69",
   "metadata": {},
   "source": [
    "## Private NPV Calculation for Whole Home"
   ]
  },
  {
   "cell_type": "code",
   "execution_count": null,
   "id": "218fc833",
   "metadata": {},
   "outputs": [],
   "source": [
    "print(\"\"\"\n",
    "------------------------------------------------------------------------------------------------------------------------------------------------\n",
    "Calculate Private NPV for WHOLE-HOME\n",
    "------------------------------------------------------------------------------------------------------------------------------------------------\n",
    "\"\"\")\n",
    "\n",
    "# Assume 15 year lifetime and 7% discount rate\n",
    "# calculate_private_NPV(df, interest_rate, ira_rebates=False)\n",
    "df_euss_am_mp8_home = calculate_private_NPV(df=df_euss_am_mp8_home,\n",
    "                                            interest_rate=0.07,\n",
    "                                            ira_rebates=False\n",
    "                                           )\n",
    "df_euss_am_mp8_home"
   ]
  },
  {
   "cell_type": "markdown",
   "id": "664d4a36",
   "metadata": {},
   "source": [
    "## Determine Adoption Decision for WHOLE-HOME"
   ]
  },
  {
   "cell_type": "code",
   "execution_count": null,
   "id": "c94f0bf0",
   "metadata": {},
   "outputs": [],
   "source": [
    "print(\"\"\"\n",
    "------------------------------------------------------------------------------------------------------------------------------------------------\n",
    "Home Retrofit Adoption without IRA Rebates\n",
    "------------------------------------------------------------------------------------------------------------------------------------------------\n",
    "\"\"\")\n",
    "\n",
    "# adoption_decision(df, category, upgrade_column, ira_rebates=False, grid_decarb=False)\n",
    "df_euss_am_mp8_home = adoption_decision(df=df_euss_am_mp8_home,\n",
    "                                        ira_rebates=False, \n",
    "                                        grid_decarb=False\n",
    "                                       )\n",
    "df_euss_am_mp8_home"
   ]
  },
  {
   "cell_type": "code",
   "execution_count": null,
   "id": "1e1d0683",
   "metadata": {},
   "outputs": [],
   "source": [
    "# # check_adoption_consistency(df, category, upgrade_column)\n",
    "# check_adoption_consistency(df = df_euss_am_mp8_home,\n",
    "#                            category = 'heating',\n",
    "#                            upgrade_column = 'upgrade_hvac_heating_efficiency'\n",
    "#                           )"
   ]
  },
  {
   "cell_type": "code",
   "execution_count": null,
   "id": "26189472",
   "metadata": {},
   "outputs": [],
   "source": [
    "# # check_adoption_consistency(df, category, upgrade_column)\n",
    "# check_adoption_consistency(df = df_euss_am_mp8_home,\n",
    "#                                category = 'waterHeating',\n",
    "#                                upgrade_column = 'upgrade_water_heater_efficiency'\n",
    "#                               )"
   ]
  },
  {
   "cell_type": "code",
   "execution_count": null,
   "id": "7665031d",
   "metadata": {},
   "outputs": [],
   "source": [
    "# # check_ira_adoption_consistency(df, category, upgrade_column)\n",
    "# check_adoption_consistency(df = df_euss_am_mp8_home,\n",
    "#                   category = 'clothesDrying',\n",
    "#                   upgrade_column = 'upgrade_clothes_dryer'\n",
    "#                  )"
   ]
  },
  {
   "cell_type": "code",
   "execution_count": null,
   "id": "4951d14f",
   "metadata": {
    "scrolled": true
   },
   "outputs": [],
   "source": [
    "# # check_ira_adoption_consistency(df, category, upgrade_column)\n",
    "# check_adoption_consistency(df = df_euss_am_mp8_home,\n",
    "#                   category = 'cooking',\n",
    "#                   upgrade_column = 'upgrade_cooking_range'\n",
    "#                  )"
   ]
  },
  {
   "cell_type": "markdown",
   "id": "e2e9d1aa",
   "metadata": {},
   "source": [
    "# Electrification: Basic Retrofit"
   ]
  },
  {
   "cell_type": "markdown",
   "id": "3919d744",
   "metadata": {},
   "source": [
    "## WHOLE-HOME Retrofit Adoption Rate with IRA Rebates\n",
    "### Scenario Basic-IRA: Basic Retrofit (MP8), IRA Rebates, Current Grid"
   ]
  },
  {
   "cell_type": "code",
   "execution_count": null,
   "id": "24e4cb46",
   "metadata": {},
   "outputs": [],
   "source": [
    "# Measure Package 8\n",
    "scenario_name = 'Basic-IRA'\n",
    "cost_scenario = 'IRA Rebates'\n",
    "grid_scenario = 'Current Electricity Grid'\n",
    "\n",
    "print(f\"\"\"\n",
    "-------------------------------------------------------------------------------------------------------\n",
    "MODEL SCENARIO\n",
    "-------------------------------------------------------------------------------------------------------\n",
    "Scenario {scenario_name}:\n",
    "Basic Retrofit: Measure Package {menu_mp}\n",
    "{cost_scenario}\n",
    "{grid_scenario}\n",
    "-------------------------------------------------------------------------------------------------------\n",
    "\"\"\")"
   ]
  },
  {
   "cell_type": "code",
   "execution_count": null,
   "id": "2e17a1a2",
   "metadata": {},
   "outputs": [],
   "source": [
    "# # Collect Area Median Income Data at PUMA-resolution\n",
    "# filename = \"nhgis0002_ds239_20185_puma.csv\"\n",
    "# relative_path = os.path.join(r\"equity_data\", filename)\n",
    "# file_path = os.path.join(project_root, relative_path)\n",
    "\n",
    "# print(f\"Retrieved data for filename: {filename}\")\n",
    "# print(f\"Located at filepath: {file_path}\")\n",
    "# print(\"\\n\")\n",
    "\n",
    "# df_county_medianIncome = pd.read_csv(file_path, encoding='ISO-8859-1')\n",
    "# df_county_medianIncome = df_county_medianIncome.drop(0)\n",
    "# df_county_medianIncome = df_county_medianIncome.reset_index(drop=True)\n",
    "\n",
    "# cols_interest = ['GISJOIN', 'STUSAB', 'STATE', 'PUMAA', 'GEOID', 'NAME_E', 'AJZAE001', 'AJZAM001']\n",
    "# df_county_medianIncome = df_county_medianIncome[cols_interest]\n",
    "# df_county_medianIncome = df_county_medianIncome.rename(columns={\"GISJOIN\": \"gis_joinID_puma\", \"STUSAB\": \"state_abbrev\", \"STATE\": \"state\", \"PUMAA\": \"puma_code\", \"GEOID\": \"census_geoID\", \"NAME_E\": \"name_estimate\", \"AJZAE001\": \"median_income_USD2018\", \"AJZAM001\": \"median_income_USD2018_marginOfError\"})\n",
    "# df_county_medianIncome"
   ]
  },
  {
   "cell_type": "markdown",
   "id": "1d625be4",
   "metadata": {},
   "source": [
    "### WHOLE-HOME Retrofit Adoption with IRA Rebates"
   ]
  },
  {
   "cell_type": "code",
   "execution_count": null,
   "id": "5f5d7ae9",
   "metadata": {},
   "outputs": [],
   "source": [
    "print(\"\"\"\n",
    "------------------------------------------------------------------------------------------------------------------------------------------------\n",
    "Home Retrofit Adoption with IRA Rebates\n",
    "------------------------------------------------------------------------------------------------------------------------------------------------\n",
    "\"\"\")"
   ]
  },
  {
   "cell_type": "code",
   "execution_count": null,
   "id": "7fd1635c",
   "metadata": {},
   "outputs": [],
   "source": [
    "# Determine Percent AMI and Rebate Amounts\n",
    "# Create a copy of the results df and define it as results_IRA\n",
    "# This needs to be done before running the calculate_percent_AMI function\n",
    "df_euss_am_mp8_home = df_euss_am_mp8_home.copy()\n",
    "\n",
    "# calculate_percent_AMI(df_results_IRA, df_county_medianIncome):\n",
    "df_euss_am_mp8_home = calculate_percent_AMI(df_euss_am_mp8_home, df_county_medianIncome)\n",
    "\n",
    "print(\"Calculating rebate amounts for Space Heating ...\")\n",
    "calculate_rebateIRA(df_euss_am_mp8_home, \"heating\", menu_mp)\n",
    "\n",
    "print(\"Calculating rebate amounts for Water Heating ...\")\n",
    "calculate_rebateIRA(df_euss_am_mp8_home, \"waterHeating\", menu_mp)\n",
    "\n",
    "print(\"Calculating rebate amounts for Clothes Drying ...\")\n",
    "calculate_rebateIRA(df_euss_am_mp8_home, \"clothesDrying\", menu_mp)\n",
    "\n",
    "print(\"Calculating rebate amounts for Cooking ...\")\n",
    "calculate_rebateIRA(df_euss_am_mp8_home, \"cooking\", menu_mp)"
   ]
  },
  {
   "cell_type": "code",
   "execution_count": null,
   "id": "ae6d57dc",
   "metadata": {},
   "outputs": [],
   "source": [
    "print(\"Calculating Private NPV for each end-use ...\")\n",
    "\n",
    "# Assume 15 year lifetime and 7% discount rate\n",
    "# calculate_private_NPV(df, interest_rate, ira_rebates=False)\n",
    "df_euss_am_mp8_home = calculate_private_NPV(df=df_euss_am_mp8_home,\n",
    "                                            interest_rate=0.07,\n",
    "                                            ira_rebates=True\n",
    "                                           )\n",
    "df_euss_am_mp8_home"
   ]
  },
  {
   "cell_type": "code",
   "execution_count": null,
   "id": "86ea8430",
   "metadata": {},
   "outputs": [],
   "source": [
    "print(\"Determining Adoption Decision for each end-use ...\")\n",
    "\n",
    "# adoption_decision(df, category, upgrade_column, ira_rebates=False, grid_decarb=False)\n",
    "df_euss_am_mp8_home = adoption_decision(df=df_euss_am_mp8_home,\n",
    "                                        ira_rebates=True, \n",
    "                                        grid_decarb=False\n",
    "                                       )\n",
    "df_euss_am_mp8_home"
   ]
  },
  {
   "cell_type": "code",
   "execution_count": null,
   "id": "1f040b84",
   "metadata": {},
   "outputs": [],
   "source": [
    "# # check_ira_adoption_consistency(df, category, upgrade_column)\n",
    "# check_ira_adoption_consistency(df = df_euss_am_mp8_home,\n",
    "#                   category = 'heating',\n",
    "#                   upgrade_column = 'upgrade_hvac_heating_efficiency'\n",
    "#                  )"
   ]
  },
  {
   "cell_type": "code",
   "execution_count": null,
   "id": "c1a13aac",
   "metadata": {},
   "outputs": [],
   "source": [
    "# # check_ira_adoption_consistency(df, category, upgrade_column)\n",
    "# check_ira_adoption_consistency(df = df_euss_am_mp8_home,\n",
    "#                                category = 'waterHeating',\n",
    "#                                upgrade_column = 'upgrade_water_heater_efficiency'\n",
    "#                               )"
   ]
  },
  {
   "cell_type": "code",
   "execution_count": null,
   "id": "23534d6c",
   "metadata": {},
   "outputs": [],
   "source": [
    "# # check_ira_adoption_consistency(df, category, upgrade_column)\n",
    "# check_ira_adoption_consistency(df = df_euss_am_mp8_home,\n",
    "#                   category = 'clothesDrying',\n",
    "#                   upgrade_column = 'upgrade_clothes_dryer'\n",
    "#                  )"
   ]
  },
  {
   "cell_type": "code",
   "execution_count": null,
   "id": "7997a0f1",
   "metadata": {
    "scrolled": true
   },
   "outputs": [],
   "source": [
    "# # check_ira_adoption_consistency(df, category, upgrade_column)\n",
    "# check_ira_adoption_consistency(df = df_euss_am_mp8_home,\n",
    "#                   category = 'cooking',\n",
    "#                   upgrade_column = 'upgrade_cooking_range'\n",
    "#                  )"
   ]
  },
  {
   "cell_type": "markdown",
   "id": "fae1d2bb",
   "metadata": {},
   "source": [
    "# Electricity Grid Decarbonization Scenarios"
   ]
  },
  {
   "cell_type": "markdown",
   "id": "df601cc3",
   "metadata": {},
   "source": [
    "\"Since the lifetime of a heat pump is 15 years [31, 32], we assume that emissions will diminish in all US electric grids during the life of the heat pump. To capture this effect, we use electric grid emissions projections from EPRI's National Electrification Assessment [16]. We use that study's 'Progressive' scenario (a balance between the study's 'Conservative' and 'Transformative' scenarios) to assume that from 2017 to 2032, (a) coal energy will decline by 75% from 1200 TWh to 300 TWh and (b) CO2 emissions intensity will decline by 45% from 850 lbs MWh−1 to 450 lbs MWh−1. We assume that the majority of health damages from coal energy [33]. Thus, we assume for each grid region that health damages will decline by 75% and CO2 emissions by 45% by 2032. We assume a linear trend.\"\n",
    "\n",
    "15 year period from 2017 to 2032. Then levels off after 2032. \n",
    "- 75% health damage reduction / 15 years = 5%/year\n",
    "- 45% CO2 emissions reduction / 15 years = 3%/year"
   ]
  },
  {
   "cell_type": "code",
   "execution_count": null,
   "id": "8fc64b74",
   "metadata": {
    "scrolled": true
   },
   "outputs": [],
   "source": [
    "# Measure Package 8\n",
    "scenario_name = 'Basic-IRA-Decarb'\n",
    "cost_scenario = 'IRA Rebates'\n",
    "grid_scenario = 'Gradually Decarbonizing Grid'\n",
    "\n",
    "print(f\"\"\"\n",
    "-------------------------------------------------------------------------------------------------------\n",
    "MODEL SCENARIO\n",
    "-------------------------------------------------------------------------------------------------------\n",
    "Scenario {scenario_name}:\n",
    "Basic Retrofit: Measure Package {menu_mp}\n",
    "{cost_scenario}\n",
    "{grid_scenario}\n",
    "-------------------------------------------------------------------------------------------------------\n",
    "\"\"\")"
   ]
  },
  {
   "cell_type": "code",
   "execution_count": null,
   "id": "5eedd4ea",
   "metadata": {},
   "outputs": [],
   "source": [
    "# pd.set_option(\"display.max_columns\", None)\n",
    "# # pd.reset_option('display.max_columns')\n",
    "# # pd.set_option('display.max_rows', None)\n",
    "# pd.reset_option('display.max_rows')"
   ]
  },
  {
   "cell_type": "markdown",
   "id": "3a142fee",
   "metadata": {},
   "source": [
    "# Scenario Basic-IRA-Decarb: \n",
    "# Basic Retrofit (MP8), IRA Rebates, Gradually Decarbonizing Grid\n",
    "**Steps**:\n",
    "- Private Perspective Impacts do not change with the Decarbonizing Grid\n",
    "- Public Perspective Impacts do change:\n",
    "    - Emissions and damages from pollutants changes with a gradually decarbonizing grid\n",
    "    - Updated Public NPV (gridDecarb) value and function\n",
    "    - Update Net NPV (ira_gridDecarb)\n",
    "    - Updated Adoption Rate (ira_gridDecarb)"
   ]
  },
  {
   "cell_type": "markdown",
   "id": "2542e3d2",
   "metadata": {},
   "source": [
    "## IRA, Grid Decarb: Public NPV and Adoption Rate"
   ]
  },
  {
   "cell_type": "code",
   "execution_count": null,
   "id": "e82b52b8",
   "metadata": {
    "scrolled": true
   },
   "outputs": [],
   "source": [
    "print(\"\"\"\n",
    "------------------------------------------------------------------------------------------------------------------------------------------------\n",
    "Home Retrofit Adoption with IRA Rebates and Decarbonizing Grid\n",
    "------------------------------------------------------------------------------------------------------------------------------------------------\n",
    "\"\"\")"
   ]
  },
  {
   "cell_type": "code",
   "execution_count": null,
   "id": "71a8271e",
   "metadata": {
    "scrolled": true
   },
   "outputs": [],
   "source": [
    "print(\"Calculating Marginal Damages for each end-use ...\")\n",
    "\n",
    "# calculate_marginal_damages(df, grid_decarb=False)\n",
    "df_euss_am_mp8_home = calculate_marginal_damages(df=df_euss_am_mp8_home,\n",
    "                                                 grid_decarb=True)\n",
    "df_euss_am_mp8_home"
   ]
  },
  {
   "cell_type": "code",
   "execution_count": null,
   "id": "5c84be41",
   "metadata": {
    "scrolled": true
   },
   "outputs": [],
   "source": [
    "print(\"Calculating Public NPV for each end-use ...\")\n",
    "df_euss_am_mp8_home = calculate_public_npv(df=df_euss_am_mp8_home,\n",
    "                                           interest_rate=0.07,\n",
    "                                           grid_decarb=True\n",
    "                                          )\n",
    "df_euss_am_mp8_home"
   ]
  },
  {
   "cell_type": "code",
   "execution_count": null,
   "id": "a95008eb",
   "metadata": {},
   "outputs": [],
   "source": [
    "print(\"Determining Adoption Decision for each end-use ...\")\n",
    "\n",
    "# adoption_decision(df, category, upgrade_column, ira_rebates=False, grid_decarb=False)\n",
    "df_euss_am_mp8_home = adoption_decision(df=df_euss_am_mp8_home,\n",
    "                                        ira_rebates=True, \n",
    "                                        grid_decarb=True\n",
    "                                       )\n",
    "df_euss_am_mp8_home"
   ]
  },
  {
   "cell_type": "code",
   "execution_count": null,
   "id": "e1c72053",
   "metadata": {},
   "outputs": [],
   "source": [
    "# # check_ira_adoption_consistency(df, category, upgrade_column)\n",
    "# check_ira_adoption_consistency(df = df_euss_am_mp8_home,\n",
    "#                   category = 'heating',\n",
    "#                   upgrade_column = 'upgrade_hvac_heating_efficiency'\n",
    "#                  )"
   ]
  },
  {
   "cell_type": "code",
   "execution_count": null,
   "id": "91148775",
   "metadata": {},
   "outputs": [],
   "source": [
    "# # check_ira_adoption_consistency(df, category, upgrade_column)\n",
    "# check_ira_adoption_consistency(df = df_euss_am_mp8_home,\n",
    "#                                category = 'waterHeating',\n",
    "#                                upgrade_column = 'upgrade_water_heater_efficiency'\n",
    "#                               )"
   ]
  },
  {
   "cell_type": "code",
   "execution_count": null,
   "id": "d36529f7",
   "metadata": {},
   "outputs": [],
   "source": [
    "# # check_ira_adoption_consistency(df, category, upgrade_column)\n",
    "# check_ira_adoption_consistency(df = df_euss_am_mp8_home,\n",
    "#                   category = 'clothesDrying',\n",
    "#                   upgrade_column = 'upgrade_clothes_dryer'\n",
    "#                  )"
   ]
  },
  {
   "cell_type": "code",
   "execution_count": null,
   "id": "4950e790",
   "metadata": {
    "scrolled": true
   },
   "outputs": [],
   "source": [
    "# # check_ira_adoption_consistency(df, category, upgrade_column)\n",
    "# check_ira_adoption_consistency(df = df_euss_am_mp8_home,\n",
    "#                   category = 'cooking',\n",
    "#                   upgrade_column = 'upgrade_cooking_range'\n",
    "#                  )"
   ]
  },
  {
   "cell_type": "markdown",
   "id": "59411dc1",
   "metadata": {},
   "source": [
    "# Model Runtime"
   ]
  },
  {
   "cell_type": "code",
   "execution_count": null,
   "id": "fab00fca",
   "metadata": {},
   "outputs": [],
   "source": [
    "# Get the current datetime again\n",
    "end_time = datetime.now().strftime(\"%Y-%m-%d_%H-%M-%S\")\n",
    "\n",
    "# Calculate the elapsed time\n",
    "elapsed_time = datetime.strptime(end_time, \"%Y-%m-%d_%H-%M-%S\") - datetime.strptime(start_time, \"%Y-%m-%d_%H-%M-%S\")\n",
    "\n",
    "# Format the elapsed time\n",
    "elapsed_seconds = elapsed_time.total_seconds()\n",
    "elapsed_minutes = int(elapsed_seconds // 60)\n",
    "elapsed_seconds = int(elapsed_seconds % 60)\n",
    "\n",
    "# Print the elapsed time\n",
    "print(f\"The code took {elapsed_minutes} minutes and {elapsed_seconds} seconds to execute.\")"
   ]
  },
  {
   "cell_type": "code",
   "execution_count": null,
   "id": "fdf1d17c",
   "metadata": {},
   "outputs": [],
   "source": [
    "# %whos"
   ]
  },
  {
   "cell_type": "code",
   "execution_count": null,
   "id": "1e2930b2",
   "metadata": {},
   "outputs": [],
   "source": [
    "df_euss_am_mp8_home['water_heater_efficiency'].value_counts()"
   ]
  },
  {
   "cell_type": "code",
   "execution_count": null,
   "id": "f55c0e76",
   "metadata": {},
   "outputs": [],
   "source": []
  }
 ],
 "metadata": {
  "kernelspec": {
   "display_name": "Python 3 (ipykernel)",
   "language": "python",
   "name": "python3"
  },
  "language_info": {
   "codemirror_mode": {
    "name": "ipython",
    "version": 3
   },
   "file_extension": ".py",
   "mimetype": "text/x-python",
   "name": "python",
   "nbconvert_exporter": "python",
   "pygments_lexer": "ipython3",
   "version": "3.11.7"
  }
 },
 "nbformat": 4,
 "nbformat_minor": 5
}
